{
 "cells": [
  {
   "cell_type": "raw",
   "metadata": {},
   "source": [
    " :download:`Download the source code <Blinking_lights_detector.ipynb>`."
   ]
  },
  {
   "cell_type": "markdown",
   "metadata": {},
   "source": [
    "# Blinking Lights detector using Python\n",
    "\n",
    "\n",
    "This tutorial shows how to detect blinking LEDs. This could be used for blinking light tracking or for calibration."
   ]
  },
  {
   "cell_type": "code",
   "execution_count": null,
   "metadata": {},
   "outputs": [
    {
     "ename": "",
     "evalue": "",
     "output_type": "error",
     "traceback": [
      "\u001b[1;31mRunning cells with 'c:\\msys64\\mingw64\\bin\\python.exe' requires ipykernel package.\n",
      "\u001b[1;31mRun the following command to install 'ipykernel' into the Python environment. \n",
      "\u001b[1;31mCommand: 'c:/msys64/mingw64/bin/python.exe -m pip install ipykernel -U --user --force-reinstall'"
     ]
    }
   ],
   "source": [
    "import os\n",
    "import numpy as np\n",
    "from metavision_sdk_core import BaseFrameGenerationAlgorithm\n",
    "from metavision_core.event_io import EventsIterator\n",
    "import metavision_sdk_cv\n",
    "import cv2\n",
    "\n",
    "from ipywidgets import interact\n",
    "from PIL import Image\n",
    "\n",
    "def display_sequence(images):\n",
    "    def _show(frame=(0, len(images)-1)):\n",
    "        return Image.fromarray(images[frame])\n",
    "    interact(_show)"
   ]
  },
  {
   "cell_type": "markdown",
   "metadata": {},
   "source": [
    "### Static camera and static blinking lights\n",
    "\n",
    "In this sequence, we want to detect two static lights blinking at a certain frequency (here between 120 Hz and 250 Hz).\n",
    "We use `metavision_sdk_cv.FrequencyAlgorithm` and `metavision_sdk_cv.FrequencyClusteringAlgorithm`."
   ]
  },
  {
   "cell_type": "code",
   "execution_count": null,
   "metadata": {},
   "outputs": [],
   "source": [
    "from metavision_core.utils import get_sample\n",
    "\n",
    "sequence_filename = \"blinking_leds_td.dat\"\n",
    "\n",
    "get_sample(sequence_filename, folder=\".\")\n",
    "assert(os.path.isfile(sequence_filename))"
   ]
  },
  {
   "cell_type": "code",
   "execution_count": null,
   "metadata": {},
   "outputs": [],
   "source": [
    "mv_it = EventsIterator(sequence_filename)\n",
    "height, width = mv_it.get_size()\n",
    "\n",
    "frequency_filter = metavision_sdk_cv.FrequencyAlgorithm(width=width, height=height, min_freq=120., max_freq=250.)\n",
    "frequency_clustering_filter = metavision_sdk_cv.FrequencyClusteringAlgorithm(width=width, height=height, \n",
    "                                                                             min_cluster_size=5, max_time_diff=10000)\n",
    "\n",
    "freq_buffer = frequency_filter.get_empty_output_buffer()\n",
    "cluster_buffer = frequency_clustering_filter.get_empty_output_buffer()\n",
    "\n",
    "im = np.zeros((height, width, 3), dtype=np.uint8)\n",
    "\n",
    "for idx, ev in enumerate(mv_it):\n",
    "    \n",
    "    if idx >= 250:\n",
    "        break\n",
    "    \n",
    "    BaseFrameGenerationAlgorithm.generate_frame(ev, im)\n",
    "    \n",
    "    frequency_filter.process_events(ev, freq_buffer)\n",
    "    frequency_clustering_filter.process_events(freq_buffer, cluster_buffer)\n",
    "    \n",
    "    for cluster in cluster_buffer.numpy():\n",
    "        x0 = int(cluster[\"x\"]) - 10\n",
    "        y0 = int(cluster[\"y\"]) - 10\n",
    "        cv2.rectangle(im, (x0, y0), (x0+20, y0+20), color=(0, 255, 0))\n",
    "        cv2.putText(im, \"id_{}: {} Hz\".format(cluster[\"id\"], int(cluster[\"frequency\"])), (x0, y0-10), cv2.FONT_HERSHEY_PLAIN,\n",
    "                    1, (0, 255, 0), 1)\n",
    "       \n",
    "    cv2.imshow(\"Events\", im[...,::-1])\n",
    "    if cv2.waitKey(1) & 0xFF == ord('q'):\n",
    "        break\n",
    "cv2.destroyAllWindows()"
   ]
  },
  {
   "cell_type": "code",
   "execution_count": null,
   "metadata": {},
   "outputs": [],
   "source": [
    "import matplotlib.pyplot as plt\n",
    "%matplotlib inline\n",
    "fig = plt.figure(figsize=(15,15))\n",
    "plt.imshow(im, aspect=\"equal\")"
   ]
  },
  {
   "cell_type": "markdown",
   "metadata": {},
   "source": [
    "### Detecting the Propheshield\n",
    "\n",
    "The Propheshield is a device used to calibrate an event-based camera. It consists of a 2x2 planar pattern of blinking LEDs. The following code also uses `metavision_sdk_cv.FrequencyAlgorithm` and `metavision_sdk_cv.FrequencyClusteringAlgorithm` so as to retrieve the positions of the blinking light. This approach could be used to retrieve the poses of a moving Propheshield and compute the camera's intrisic parameters."
   ]
  },
  {
   "cell_type": "code",
   "execution_count": null,
   "metadata": {},
   "outputs": [],
   "source": [
    "sequence_filename = \"calib_propheshield_parking.10_sec.raw\"\n",
    "\n",
    "get_sample(sequence_filename, folder=\".\")\n",
    "assert(os.path.isfile(sequence_filename))"
   ]
  },
  {
   "cell_type": "code",
   "execution_count": null,
   "metadata": {},
   "outputs": [],
   "source": [
    "mv_it = EventsIterator(sequence_filename)\n",
    "height, width = mv_it.get_size()\n",
    "\n",
    "frequency_filter = metavision_sdk_cv.FrequencyAlgorithm(width=width, height=height, min_freq=120., max_freq=250.)\n",
    "frequency_clustering_filter = metavision_sdk_cv.FrequencyClusteringAlgorithm(width=width, height=height, \n",
    "                                                                             min_cluster_size=10, max_time_diff=10000)\n",
    "\n",
    "freq_buffer = frequency_filter.get_empty_output_buffer()\n",
    "cluster_buffer = frequency_clustering_filter.get_empty_output_buffer()\n",
    "\n",
    "list_images = []\n",
    "\n",
    "im = np.zeros((height, width, 3), dtype=np.uint8)\n",
    "\n",
    "for idx, ev in enumerate(mv_it):       \n",
    "    BaseFrameGenerationAlgorithm.generate_frame(ev, im)\n",
    "    \n",
    "    frequency_filter.process_events(ev, freq_buffer)\n",
    "    frequency_clustering_filter.process_events(freq_buffer, cluster_buffer)\n",
    "    \n",
    "    for cluster in cluster_buffer.numpy():\n",
    "        x0 = int(cluster[\"x\"]) - 10\n",
    "        y0 = int(cluster[\"y\"]) - 10\n",
    "        cv2.rectangle(im, (x0, y0), (x0+20, y0+20), color=(0, 255, 0))\n",
    "        cv2.putText(im, \"id_{}: {} Hz\".format(cluster[\"id\"], int(cluster[\"frequency\"])), (x0, y0-10), cv2.FONT_HERSHEY_PLAIN,\n",
    "                    1, (0, 255, 0), 1)\n",
    "\n",
    "    cv2.imshow(\"Events\", im[...,::-1])\n",
    "    list_images.append(im.copy())\n",
    "    if cv2.waitKey(1) & 0xFF == ord('q'):\n",
    "        break\n",
    "\n",
    "cv2.destroyAllWindows()\n",
    "display_sequence(list_images)\n",
    "fig = plt.figure(figsize=(11,11))\n",
    "plt.imshow(list_images[666])"
   ]
  },
  {
   "cell_type": "raw",
   "metadata": {},
   "source": [
    ".. note::\n",
    "    This tutorial was created using `Jupiter Notebooks <https://jupyter.org/>`_\n",
    "\n",
    "    :download:`Download the source code <Blinking_lights_detector.ipynb>`."
   ]
  }
 ],
 "metadata": {
  "kernelspec": {
   "display_name": "Python 3",
   "language": "python",
   "name": "python3"
  },
  "language_info": {
   "codemirror_mode": {
    "name": "ipython",
    "version": 3
   },
   "file_extension": ".py",
   "mimetype": "text/x-python",
   "name": "python",
   "nbconvert_exporter": "python",
   "pygments_lexer": "ipython3",
   "version": "3.10.8 (main, Oct 15 2022, 19:00:40)  [GCC 12.2.0 64 bit (AMD64)]"
  },
  "vscode": {
   "interpreter": {
    "hash": "2a8dfe095fce2b5e88c64a2c3ee084c8e0e0d70b23e7b95b1cfb538be294c5c8"
   }
  }
 },
 "nbformat": 4,
 "nbformat_minor": 4
}
